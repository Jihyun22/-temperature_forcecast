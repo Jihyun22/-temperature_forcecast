{
 "cells": [
  {
   "cell_type": "markdown",
   "metadata": {},
   "source": [
    "데이터 로드"
   ]
  },
  {
   "cell_type": "code",
   "execution_count": 1,
   "metadata": {},
   "outputs": [],
   "source": [
    "import multiprocessing \n",
    "from multiprocessing import Pool \n",
    "from functools import partial \n",
    "from data_loader_v2 import data_loader_v2\n",
    "import os \n",
    "import pandas as pd\n",
    "import numpy as np\n",
    "import joblib\n",
    "\n",
    "train_folder = 'train/'\n",
    "train_label_path = 'train_label.csv'"
   ]
  },
  {
   "cell_type": "code",
   "execution_count": null,
   "metadata": {},
   "outputs": [],
   "source": [
    "train_list = os.listdir(train_folder)\n",
    "train_label = pd.read_csv(train_label_path, index_col=0)"
   ]
  },
  {
   "cell_type": "code",
   "execution_count": null,
   "metadata": {},
   "outputs": [],
   "source": [
    "def data_loader_all(func, files, folder='', train_label=None, event_time=15, nrows=75):   \n",
    "    func_fixed = partial(func, folder=folder, train_label=train_label, event_time=event_time, nrows=nrows)  \n",
    "    if __name__ == '__main__':\n",
    "        pool = Pool(processes=multiprocessing.cpu_count()) \n",
    "        df_list = list(pool.imap(func_fixed, files)) \n",
    "        pool.close() \n",
    "        pool.join() \n",
    "    combined_df = pd.concat(df_list)\n",
    "    return combined_df"
   ]
  },
  {
   "cell_type": "code",
   "execution_count": null,
   "metadata": {},
   "outputs": [],
   "source": [
    "train = data_loader_all(data_loader_v2, train_list, folder=train_folder, train_label=train_label, event_time=15, nrows=75)"
   ]
  },
  {
   "cell_type": "code",
   "execution_count": null,
   "metadata": {},
   "outputs": [],
   "source": [
    "train=train.loc[:,train.std()!=0]"
   ]
  },
  {
   "cell_type": "code",
   "execution_count": null,
   "metadata": {},
   "outputs": [],
   "source": [
    "X_train = train.drop(['label'], axis=1)\n",
    "y_train = train['label']"
   ]
  },
  {
   "cell_type": "code",
   "execution_count": null,
   "metadata": {},
   "outputs": [],
   "source": [
    "np.savez('train_ver3.npz', X=X_train, y=y_train)"
   ]
  },
  {
   "cell_type": "markdown",
   "metadata": {},
   "source": [
    "load"
   ]
  },
  {
   "cell_type": "code",
   "execution_count": 4,
   "metadata": {},
   "outputs": [],
   "source": [
    "train = np.load('train_fin.npz')"
   ]
  },
  {
   "cell_type": "code",
   "execution_count": 5,
   "metadata": {},
   "outputs": [],
   "source": [
    "X = train['X']\n",
    "y = train['y']"
   ]
  },
  {
   "cell_type": "code",
   "execution_count": 6,
   "metadata": {
    "scrolled": true
   },
   "outputs": [
    {
     "data": {
      "text/plain": [
       "((49620, 3428), (49620,))"
      ]
     },
     "execution_count": 6,
     "metadata": {},
     "output_type": "execute_result"
    }
   ],
   "source": [
    "X.shape, y.shape"
   ]
  },
  {
   "cell_type": "code",
   "execution_count": 7,
   "metadata": {},
   "outputs": [],
   "source": [
    "from sklearn.model_selection import cross_val_score\n",
    "from bayes_opt import BayesianOptimization\n",
    "import lightgbm as lgbm"
   ]
  },
  {
   "cell_type": "code",
   "execution_count": 14,
   "metadata": {},
   "outputs": [],
   "source": [
    "#목적함수 생성\n",
    "def lgbm_cv(learning_rate, num_leaves, max_depth, min_child_weight, colsample_bytree, feature_fraction, bagging_fraction):\n",
    "    model = lgbm.LGBMClassifier(learning_rate=learning_rate,\n",
    "                                num_leaves = int(round(num_leaves)),\n",
    "                                max_depth = int(round(max_depth))),\n",
    "                                min_child_weight = int(round(min_child_weight))),\n",
    "                                colsample_bytree = colsample_bytree,\n",
    "                                feature_fraction = max(min(feature_fraction, 1), 0),\n",
    "                                bagging_fraction = max(min(bagging_fraction, 1), 0))\n",
    "    RMSE = cross_val_score(model, X, y, scoring='accuracy', cv=5).mean()\n",
    "    return -RMSE"
   ]
  },
  {
   "cell_type": "code",
   "execution_count": 15,
   "metadata": {},
   "outputs": [],
   "source": [
    "# 입력값의 탐색 대상 구간\n",
    "pbounds = {'learning_rate' : (0.00001, 0.3),\n",
    "           'num_leaves': (50, 400),\n",
    "           'max_depth': (-1, 9),\n",
    "           'min_child_weight': (0, 100),\n",
    "           'colsample_bytree': (0, 0.99),\n",
    "           'feature_fraction': (0.0001, 0.99),\n",
    "           'bagging_fraction': (0.0001, 0.99)\n",
    "          }"
   ]
  },
  {
   "cell_type": "code",
   "execution_count": 16,
   "metadata": {},
   "outputs": [],
   "source": [
    "#객체 생성\n",
    "lgbmBO = BayesianOptimization(f = lgbm_cv,pbounds = pbounds, verbose = 2, random_state = 1 )"
   ]
  },
  {
   "cell_type": "code",
   "execution_count": null,
   "metadata": {},
   "outputs": [
    {
     "name": "stdout",
     "output_type": "stream",
     "text": [
      "|   iter    |  target   | baggin... | featur... | learni... | max_depth | num_le... |\n",
      "-------------------------------------------------------------------------------------\n"
     ]
    }
   ],
   "source": [
    "# 반복적으로 베이지안 최적화 수행\n",
    "# acq='ei'사용\n",
    "# xi=0.01 로 exploration의 강도를 조금 높임\n",
    "lgbmBO.maximize(init_points=4, n_iter = 16, acq='ei', xi=0.01)"
   ]
  },
  {
   "cell_type": "code",
   "execution_count": null,
   "metadata": {},
   "outputs": [],
   "source": [
    "lgbmBO.max # 찾은 파라미터 값 확인"
   ]
  },
  {
   "cell_type": "code",
   "execution_count": null,
   "metadata": {},
   "outputs": [],
   "source": [
    "#목적함수 생성\n",
    "def lgbm_cv(learning_rate, num_leaves, max_depth, min_child_weight, colsample_bytree, feature_fraction, bagging_fraction):\n",
    "    model = lgbm.LGBMClassifier(learning_rate=learning_rate,\n",
    "                                num_leaves = int(round(num_leaves)),\n",
    "                                max_depth = int(round(max_depth))),\n",
    "                                min_child_weight = int(round(min_child_weight))),\n",
    "                                colsample_bytree = colsample_bytree,\n",
    "                                feature_fraction = max(min(feature_fraction, 1), 0),\n",
    "                                bagging_fraction = max(min(bagging_fraction, 1), 0))\n",
    "    RMSE = cross_val_score(model, X, y, scoring='accuracy', cv=5).mean()\n",
    "    return -RMSE"
   ]
  },
  {
   "cell_type": "code",
   "execution_count": null,
   "metadata": {},
   "outputs": [],
   "source": [
    "#파라미터 적용\n",
    "fit_lgbm = lgbm.LGBMClassifier(learning_rate=lgbmBO.max['params']['learning_rate'],\n",
    "                               num_leaves = int(round(lgbmBO.max['params']['num_leaves'])),\n",
    "                               max_depth = int(round(lgbmBO.max['params']['max_depth'])),\n",
    "                               min_child_weight = int(round(lgbmBO.max['params']['min_child_weight'])),\n",
    "                               colsample_bytree=lgbmBO.max['params']['colsample_bytree'],\n",
    "                               feature_fraction = max(min(lgbmBO.max['params']['feature_fraction'], 1), 0),\n",
    "                               bagging_fraction = max(min(lgbmBO.max['params']['bagging_fraction'], 1), 0),\n",
    "                               )"
   ]
  },
  {
   "cell_type": "code",
   "execution_count": null,
   "metadata": {},
   "outputs": [],
   "source": [
    "model = fit_lgbm.fit(X,y)"
   ]
  },
  {
   "cell_type": "code",
   "execution_count": null,
   "metadata": {},
   "outputs": [],
   "source": [
    "joblib.dump(model_lgbm, 'model_lgbmBO.pkl')"
   ]
  },
  {
   "cell_type": "code",
   "execution_count": null,
   "metadata": {},
   "outputs": [],
   "source": [
    "pred = model_lgbm.predict_proba(test)"
   ]
  }
 ],
 "metadata": {
  "kernelspec": {
   "display_name": "Python 3",
   "language": "python",
   "name": "python3"
  },
  "language_info": {
   "codemirror_mode": {
    "name": "ipython",
    "version": 3
   },
   "file_extension": ".py",
   "mimetype": "text/x-python",
   "name": "python",
   "nbconvert_exporter": "python",
   "pygments_lexer": "ipython3",
   "version": "3.7.4"
  }
 },
 "nbformat": 4,
 "nbformat_minor": 2
}
