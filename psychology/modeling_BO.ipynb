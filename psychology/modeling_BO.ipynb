{
 "cells": [
  {
   "cell_type": "markdown",
   "metadata": {},
   "source": [
    "포스팅 [링크](https://visitor-badge.laobi.icu/badge?page_id=jihyun22.github.io/데이콘리뷰/psychology-02/)"
   ]
  },
  {
   "cell_type": "markdown",
   "metadata": {},
   "source": [
    "## 01~2 data_encoding.ipynb 참고"
   ]
  },
  {
   "cell_type": "code",
   "execution_count": 1,
   "metadata": {},
   "outputs": [],
   "source": [
    "import pandas as pd\n",
    "import numpy as np"
   ]
  },
  {
   "cell_type": "code",
   "execution_count": 2,
   "metadata": {},
   "outputs": [],
   "source": [
    "# 데이터 로드\n",
    "train=pd.read_csv('data/train.csv', index_col=0)\n",
    "test=pd.read_csv('data/test_x.csv', index_col=0)\n",
    "submission=pd.read_csv('data/sample_submission.csv', index_col=0)\n",
    "# 범주형 -> 이산형\n",
    "X = pd.get_dummies(train.drop('voted', axis = 1))\n",
    "y = train['voted']\n",
    "test = pd.get_dummies(test)"
   ]
  },
  {
   "cell_type": "code",
   "execution_count": 3,
   "metadata": {},
   "outputs": [
    {
     "name": "stdout",
     "output_type": "stream",
     "text": [
      "X : (45532, 100)\n",
      "test : (11383, 100)\n",
      "Encoding Success\n"
     ]
    }
   ],
   "source": [
    "# 칼럼 개수 변화\n",
    "print(\"X : {}\\ntest : {}\".format(X.shape, test.shape))\n",
    "# 인코딩 확인\n",
    "print(\"Encoding Success\") if list(X.columns) == list(test.columns) else list(test.columns)"
   ]
  },
  {
   "cell_type": "markdown",
   "metadata": {},
   "source": [
    "## 03 데이터 전처리"
   ]
  },
  {
   "cell_type": "code",
   "execution_count": 4,
   "metadata": {},
   "outputs": [
    {
     "data": {
      "text/plain": [
       "(45532, 100)"
      ]
     },
     "execution_count": 4,
     "metadata": {},
     "output_type": "execute_result"
    }
   ],
   "source": [
    "# nan 값 메꾸기\n",
    "X = X.fillna(X.mean())\n",
    "# 중복 값 제거\n",
    "X.drop_duplicates(keep='first', inplace = True)\n",
    "# 비교 -> nan 없음\n",
    "X.shape"
   ]
  },
  {
   "cell_type": "code",
   "execution_count": 5,
   "metadata": {},
   "outputs": [],
   "source": [
    "from sklearn.preprocessing import MinMaxScaler\n",
    "# 데이터 스케일링 -> 민맥스/스텐다드 모두 성능 비슷함\n",
    "scaler=MinMaxScaler()\n",
    "scaler.fit(X)\n",
    "X=scaler.transform(X)\n",
    "# 테스트 데이터도 동일 스케일러로\n",
    "test=scaler.transform(test)"
   ]
  },
  {
   "cell_type": "code",
   "execution_count": 6,
   "metadata": {},
   "outputs": [
    {
     "data": {
      "text/plain": [
       "array([[5.00000000e-01, 1.40020340e-04, 7.50000000e-01, ...,\n",
       "        0.00000000e+00, 1.00000000e+00, 0.00000000e+00],\n",
       "       [1.00000000e+00, 2.57670567e-04, 1.00000000e+00, ...,\n",
       "        0.00000000e+00, 0.00000000e+00, 0.00000000e+00],\n",
       "       [7.50000000e-01, 6.61989656e-04, 0.00000000e+00, ...,\n",
       "        0.00000000e+00, 1.00000000e+00, 0.00000000e+00],\n",
       "       ...,\n",
       "       [7.50000000e-01, 2.35300453e-04, 0.00000000e+00, ...,\n",
       "        0.00000000e+00, 0.00000000e+00, 0.00000000e+00],\n",
       "       [0.00000000e+00, 2.99096703e-04, 5.00000000e-01, ...,\n",
       "        0.00000000e+00, 0.00000000e+00, 0.00000000e+00],\n",
       "       [5.00000000e-01, 1.95117101e-04, 1.00000000e+00, ...,\n",
       "        0.00000000e+00, 0.00000000e+00, 0.00000000e+00]])"
      ]
     },
     "execution_count": 6,
     "metadata": {},
     "output_type": "execute_result"
    }
   ],
   "source": [
    "X"
   ]
  },
  {
   "cell_type": "markdown",
   "metadata": {},
   "source": [
    "## 04 모델링(베이지안)"
   ]
  },
  {
   "cell_type": "code",
   "execution_count": 34,
   "metadata": {},
   "outputs": [],
   "source": [
    "import lightgbm as lgbm\n",
    "from bayes_opt import BayesianOptimization\n",
    "from sklearn.metrics import roc_auc_score, make_scorer\n",
    "from sklearn.model_selection import cross_validate"
   ]
  },
  {
   "cell_type": "code",
   "execution_count": 49,
   "metadata": {},
   "outputs": [],
   "source": [
    "#목적함수 생성\n",
    "def lgbm_cv(learning_rate, num_leaves, max_depth, min_child_weight, colsample_bytree, feature_fraction, bagging_fraction, lambda_l1, lambda_l2):\n",
    "    model = lgbm.LGBMClassifier(learning_rate=learning_rate,\n",
    "                                n_estimators = 300,\n",
    "                                #boosting = 'dart',\n",
    "                                num_leaves = int(round(num_leaves)),\n",
    "                                max_depth = int(round(max_depth)),\n",
    "                                min_child_weight = int(round(min_child_weight)),\n",
    "                                colsample_bytree = colsample_bytree,\n",
    "                                feature_fraction = max(min(feature_fraction, 1), 0),\n",
    "                                bagging_fraction = max(min(bagging_fraction, 1), 0),\n",
    "                                lambda_l1 = max(lambda_l1, 0),\n",
    "                                lambda_l2 = max(lambda_l2, 0)\n",
    "                               )\n",
    "    scoring = {'roc_auc_score': make_scorer(roc_auc_score)}\n",
    "    result = cross_validate(model, X, y, cv=5, scoring=scoring)\n",
    "    auc_score = result[\"test_roc_auc_score\"].mean()\n",
    "    return auc_score"
   ]
  },
  {
   "cell_type": "code",
   "execution_count": 50,
   "metadata": {},
   "outputs": [],
   "source": [
    "# 입력값의 탐색 대상 구간\n",
    "pbounds = {'learning_rate' : (0.0001, 0.05),\n",
    "           'num_leaves': (300, 600),\n",
    "           'max_depth': (2, 25),\n",
    "           'min_child_weight': (30, 100),\n",
    "           'colsample_bytree': (0, 0.99),\n",
    "           'feature_fraction': (0.0001, 0.99),\n",
    "           'bagging_fraction': (0.0001, 0.99),\n",
    "           'lambda_l1' : (0, 0.99),\n",
    "           'lambda_l2' : (0, 0.99),\n",
    "          }"
   ]
  },
  {
   "cell_type": "code",
   "execution_count": 51,
   "metadata": {},
   "outputs": [],
   "source": [
    "#객체 생성\n",
    "lgbmBO = BayesianOptimization(f = lgbm_cv, pbounds = pbounds, verbose = 2, random_state = 0 )"
   ]
  },
  {
   "cell_type": "code",
   "execution_count": 52,
   "metadata": {},
   "outputs": [
    {
     "name": "stdout",
     "output_type": "stream",
     "text": [
      "|   iter    |  target   | baggin... | colsam... | featur... | lambda_l1 | lambda_l2 | learni... | max_depth | min_ch... | num_le... |\n",
      "-------------------------------------------------------------------------------------------------------------------------------------\n",
      "| \u001b[0m 1       \u001b[0m | \u001b[0m 0.6986  \u001b[0m | \u001b[0m 0.5434  \u001b[0m | \u001b[0m 0.708   \u001b[0m | \u001b[0m 0.5968  \u001b[0m | \u001b[0m 0.5394  \u001b[0m | \u001b[0m 0.4194  \u001b[0m | \u001b[0m 0.03233 \u001b[0m | \u001b[0m 12.06   \u001b[0m | \u001b[0m 92.42   \u001b[0m | \u001b[0m 589.1   \u001b[0m |\n",
      "| \u001b[0m 2       \u001b[0m | \u001b[0m 0.6865  \u001b[0m | \u001b[0m 0.3797  \u001b[0m | \u001b[0m 0.7838  \u001b[0m | \u001b[0m 0.5237  \u001b[0m | \u001b[0m 0.5624  \u001b[0m | \u001b[0m 0.9163  \u001b[0m | \u001b[0m 0.003645\u001b[0m | \u001b[0m 4.004   \u001b[0m | \u001b[0m 31.42   \u001b[0m | \u001b[0m 549.8   \u001b[0m |\n",
      "| \u001b[95m 3       \u001b[0m | \u001b[95m 0.7     \u001b[0m | \u001b[95m 0.7704  \u001b[0m | \u001b[95m 0.8613  \u001b[0m | \u001b[95m 0.9688  \u001b[0m | \u001b[95m 0.7912  \u001b[0m | \u001b[95m 0.4569  \u001b[0m | \u001b[95m 0.03905 \u001b[0m | \u001b[95m 4.72    \u001b[0m | \u001b[95m 74.79   \u001b[0m | \u001b[95m 343.0   \u001b[0m |\n",
      "| \u001b[0m 4       \u001b[0m | \u001b[0m 0.6999  \u001b[0m | \u001b[0m 0.9352  \u001b[0m | \u001b[0m 0.5166  \u001b[0m | \u001b[0m 0.4106  \u001b[0m | \u001b[0m 0.2619  \u001b[0m | \u001b[0m 0.7665  \u001b[0m | \u001b[0m 0.02286 \u001b[0m | \u001b[0m 15.07   \u001b[0m | \u001b[0m 31.32   \u001b[0m | \u001b[0m 485.3   \u001b[0m |\n",
      "| \u001b[0m 5       \u001b[0m | \u001b[0m 0.6978  \u001b[0m | \u001b[0m 0.606   \u001b[0m | \u001b[0m 0.6108  \u001b[0m | \u001b[0m 0.9343  \u001b[0m | \u001b[0m 0.675   \u001b[0m | \u001b[0m 0.3559  \u001b[0m | \u001b[0m 0.02191 \u001b[0m | \u001b[0m 18.05   \u001b[0m | \u001b[0m 34.22   \u001b[0m | \u001b[0m 500.0   \u001b[0m |\n",
      "| \u001b[0m 6       \u001b[0m | \u001b[0m 0.6994  \u001b[0m | \u001b[0m 0.5384  \u001b[0m | \u001b[0m 0.04871 \u001b[0m | \u001b[0m 0.3478  \u001b[0m | \u001b[0m 0.1378  \u001b[0m | \u001b[0m 0.9633  \u001b[0m | \u001b[0m 0.0238  \u001b[0m | \u001b[0m 22.71   \u001b[0m | \u001b[0m 57.85   \u001b[0m | \u001b[0m 442.4   \u001b[0m |\n",
      "| \u001b[95m 7       \u001b[0m | \u001b[95m 0.7003  \u001b[0m | \u001b[95m 0.615   \u001b[0m | \u001b[95m 0.2842  \u001b[0m | \u001b[95m 0.4637  \u001b[0m | \u001b[95m 0.7906  \u001b[0m | \u001b[95m 0.5104  \u001b[0m | \u001b[95m 0.04883 \u001b[0m | \u001b[95m 3.632   \u001b[0m | \u001b[95m 30.24   \u001b[0m | \u001b[95m 382.4   \u001b[0m |\n",
      "| \u001b[0m 8       \u001b[0m | \u001b[0m 0.6543  \u001b[0m | \u001b[0m 0.686   \u001b[0m | \u001b[0m 0.9669  \u001b[0m | \u001b[0m 0.01047 \u001b[0m | \u001b[0m 0.1853  \u001b[0m | \u001b[0m 0.2557  \u001b[0m | \u001b[0m 0.03188 \u001b[0m | \u001b[0m 24.52   \u001b[0m | \u001b[0m 30.22   \u001b[0m | \u001b[0m 315.8   \u001b[0m |\n",
      "| \u001b[0m 9       \u001b[0m | \u001b[0m 0.6977  \u001b[0m | \u001b[0m 0.5413  \u001b[0m | \u001b[0m 0.8265  \u001b[0m | \u001b[0m 0.2976  \u001b[0m | \u001b[0m 0.03282 \u001b[0m | \u001b[0m 0.2123  \u001b[0m | \u001b[0m 0.03936 \u001b[0m | \u001b[0m 2.633   \u001b[0m | \u001b[0m 70.79   \u001b[0m | \u001b[0m 384.3   \u001b[0m |\n",
      "| \u001b[0m 10      \u001b[0m | \u001b[0m 0.6983  \u001b[0m | \u001b[0m 0.6941  \u001b[0m | \u001b[0m 0.3692  \u001b[0m | \u001b[0m 0.3581  \u001b[0m | \u001b[0m 0.4821  \u001b[0m | \u001b[0m 0.6529  \u001b[0m | \u001b[0m 0.01721 \u001b[0m | \u001b[0m 4.418   \u001b[0m | \u001b[0m 30.27   \u001b[0m | \u001b[0m 422.1   \u001b[0m |\n",
      "| \u001b[0m 11      \u001b[0m | \u001b[0m 0.683   \u001b[0m | \u001b[0m 0.7734  \u001b[0m | \u001b[0m 0.4754  \u001b[0m | \u001b[0m 0.05079 \u001b[0m | \u001b[0m 0.4677  \u001b[0m | \u001b[0m 0.4786  \u001b[0m | \u001b[0m 0.0293  \u001b[0m | \u001b[0m 2.596   \u001b[0m | \u001b[0m 31.73   \u001b[0m | \u001b[0m 383.5   \u001b[0m |\n",
      "| \u001b[0m 12      \u001b[0m | \u001b[0m 0.6961  \u001b[0m | \u001b[0m 0.8518  \u001b[0m | \u001b[0m 0.4633  \u001b[0m | \u001b[0m 0.3379  \u001b[0m | \u001b[0m 0.6867  \u001b[0m | \u001b[0m 0.06141 \u001b[0m | \u001b[0m 0.04023 \u001b[0m | \u001b[0m 12.76   \u001b[0m | \u001b[0m 91.87   \u001b[0m | \u001b[0m 545.5   \u001b[0m |\n",
      "| \u001b[0m 13      \u001b[0m | \u001b[0m 0.6994  \u001b[0m | \u001b[0m 0.9603  \u001b[0m | \u001b[0m 0.003919\u001b[0m | \u001b[0m 0.4968  \u001b[0m | \u001b[0m 0.1905  \u001b[0m | \u001b[0m 0.3403  \u001b[0m | \u001b[0m 0.02221 \u001b[0m | \u001b[0m 14.29   \u001b[0m | \u001b[0m 31.24   \u001b[0m | \u001b[0m 485.8   \u001b[0m |\n",
      "| \u001b[0m 14      \u001b[0m | \u001b[0m 0.6991  \u001b[0m | \u001b[0m 0.3036  \u001b[0m | \u001b[0m 0.06767 \u001b[0m | \u001b[0m 0.4564  \u001b[0m | \u001b[0m 0.806   \u001b[0m | \u001b[0m 0.5681  \u001b[0m | \u001b[0m 0.0316  \u001b[0m | \u001b[0m 5.087   \u001b[0m | \u001b[0m 72.1    \u001b[0m | \u001b[0m 343.6   \u001b[0m |\n",
      "| \u001b[95m 15      \u001b[0m | \u001b[95m 0.701   \u001b[0m | \u001b[95m 0.159   \u001b[0m | \u001b[95m 0.2529  \u001b[0m | \u001b[95m 0.7675  \u001b[0m | \u001b[95m 0.7801  \u001b[0m | \u001b[95m 0.6409  \u001b[0m | \u001b[95m 0.02265 \u001b[0m | \u001b[95m 8.193   \u001b[0m | \u001b[95m 30.48   \u001b[0m | \u001b[95m 380.3   \u001b[0m |\n",
      "| \u001b[0m 16      \u001b[0m | \u001b[0m 0.6995  \u001b[0m | \u001b[0m 0.7101  \u001b[0m | \u001b[0m 0.2929  \u001b[0m | \u001b[0m 0.7939  \u001b[0m | \u001b[0m 0.481   \u001b[0m | \u001b[0m 0.2528  \u001b[0m | \u001b[0m 0.0371  \u001b[0m | \u001b[0m 6.158   \u001b[0m | \u001b[0m 30.51   \u001b[0m | \u001b[0m 382.0   \u001b[0m |\n",
      "| \u001b[0m 17      \u001b[0m | \u001b[0m 0.6792  \u001b[0m | \u001b[0m 0.7479  \u001b[0m | \u001b[0m 0.3636  \u001b[0m | \u001b[0m 0.888   \u001b[0m | \u001b[0m 0.009658\u001b[0m | \u001b[0m 0.9869  \u001b[0m | \u001b[0m 0.00187 \u001b[0m | \u001b[0m 7.997   \u001b[0m | \u001b[0m 76.45   \u001b[0m | \u001b[0m 346.3   \u001b[0m |\n",
      "| \u001b[0m 18      \u001b[0m | \u001b[0m 0.694   \u001b[0m | \u001b[0m 0.119   \u001b[0m | \u001b[0m 0.4861  \u001b[0m | \u001b[0m 0.1017  \u001b[0m | \u001b[0m 0.8208  \u001b[0m | \u001b[0m 0.01521 \u001b[0m | \u001b[0m 0.03531 \u001b[0m | \u001b[0m 5.709   \u001b[0m | \u001b[0m 30.5    \u001b[0m | \u001b[0m 376.8   \u001b[0m |\n",
      "| \u001b[0m 19      \u001b[0m | \u001b[0m 0.6676  \u001b[0m | \u001b[0m 0.8015  \u001b[0m | \u001b[0m 0.234   \u001b[0m | \u001b[0m 0.01009 \u001b[0m | \u001b[0m 0.2333  \u001b[0m | \u001b[0m 0.1733  \u001b[0m | \u001b[0m 0.04348 \u001b[0m | \u001b[0m 2.493   \u001b[0m | \u001b[0m 73.36   \u001b[0m | \u001b[0m 341.4   \u001b[0m |\n",
      "| \u001b[0m 20      \u001b[0m | \u001b[0m 0.6985  \u001b[0m | \u001b[0m 0.1058  \u001b[0m | \u001b[0m 0.7954  \u001b[0m | \u001b[0m 0.2442  \u001b[0m | \u001b[0m 0.05641 \u001b[0m | \u001b[0m 0.74    \u001b[0m | \u001b[0m 0.03221 \u001b[0m | \u001b[0m 8.176   \u001b[0m | \u001b[0m 31.4    \u001b[0m | \u001b[0m 381.6   \u001b[0m |\n",
      "| \u001b[95m 21      \u001b[0m | \u001b[95m 0.7043  \u001b[0m | \u001b[95m 0.9516  \u001b[0m | \u001b[95m 0.786   \u001b[0m | \u001b[95m 0.9362  \u001b[0m | \u001b[95m 0.7111  \u001b[0m | \u001b[95m 0.5643  \u001b[0m | \u001b[95m 0.01141 \u001b[0m | \u001b[95m 6.09    \u001b[0m | \u001b[95m 33.33   \u001b[0m | \u001b[95m 380.2   \u001b[0m |\n",
      "| \u001b[0m 22      \u001b[0m | \u001b[0m 0.7016  \u001b[0m | \u001b[0m 0.9625  \u001b[0m | \u001b[0m 0.4699  \u001b[0m | \u001b[0m 0.8483  \u001b[0m | \u001b[0m 0.598   \u001b[0m | \u001b[0m 0.06879 \u001b[0m | \u001b[0m 0.02233 \u001b[0m | \u001b[0m 6.539   \u001b[0m | \u001b[0m 35.06   \u001b[0m | \u001b[0m 379.3   \u001b[0m |\n",
      "| \u001b[0m 23      \u001b[0m | \u001b[0m 0.6949  \u001b[0m | \u001b[0m 0.03632 \u001b[0m | \u001b[0m 0.1783  \u001b[0m | \u001b[0m 0.4311  \u001b[0m | \u001b[0m 0.04416 \u001b[0m | \u001b[0m 0.3632  \u001b[0m | \u001b[0m 0.005125\u001b[0m | \u001b[0m 6.761   \u001b[0m | \u001b[0m 32.44   \u001b[0m | \u001b[0m 378.9   \u001b[0m |\n",
      "| \u001b[0m 24      \u001b[0m | \u001b[0m 0.7007  \u001b[0m | \u001b[0m 0.4155  \u001b[0m | \u001b[0m 0.2127  \u001b[0m | \u001b[0m 0.6469  \u001b[0m | \u001b[0m 0.8476  \u001b[0m | \u001b[0m 0.9304  \u001b[0m | \u001b[0m 0.02003 \u001b[0m | \u001b[0m 6.782   \u001b[0m | \u001b[0m 33.45   \u001b[0m | \u001b[0m 382.1   \u001b[0m |\n",
      "| \u001b[0m 25      \u001b[0m | \u001b[0m 0.6987  \u001b[0m | \u001b[0m 0.3296  \u001b[0m | \u001b[0m 0.6078  \u001b[0m | \u001b[0m 0.9726  \u001b[0m | \u001b[0m 0.005871\u001b[0m | \u001b[0m 0.1608  \u001b[0m | \u001b[0m 0.004235\u001b[0m | \u001b[0m 7.953   \u001b[0m | \u001b[0m 37.69   \u001b[0m | \u001b[0m 381.7   \u001b[0m |\n",
      "=====================================================================================================================================\n"
     ]
    }
   ],
   "source": [
    "# 반복적으로 베이지안 최적화 수행\n",
    "# acq='ei'사용\n",
    "# xi=0.01 로 exploration의 강도를 조금 높임\n",
    "lgbmBO.maximize(init_points=5, n_iter = 20, acq='ei', xi=0.01)"
   ]
  },
  {
   "cell_type": "code",
   "execution_count": 53,
   "metadata": {},
   "outputs": [
    {
     "data": {
      "text/plain": [
       "{'target': 0.7042782365476333,\n",
       " 'params': {'bagging_fraction': 0.9515683153667026,\n",
       "  'colsample_bytree': 0.7860120233288207,\n",
       "  'feature_fraction': 0.9362075859090412,\n",
       "  'lambda_l1': 0.7111030183072032,\n",
       "  'lambda_l2': 0.5642765168754059,\n",
       "  'learning_rate': 0.011407920284082697,\n",
       "  'max_depth': 6.090247578634,\n",
       "  'min_child_weight': 33.33272426081254,\n",
       "  'num_leaves': 380.181539974917}}"
      ]
     },
     "execution_count": 53,
     "metadata": {},
     "output_type": "execute_result"
    }
   ],
   "source": [
    "# 찾은 파라미터 값 확인\n",
    "lgbmBO.max"
   ]
  },
  {
   "cell_type": "code",
   "execution_count": 54,
   "metadata": {},
   "outputs": [],
   "source": [
    "#파라미터 적용\n",
    "fit_lgbm = lgbm.LGBMClassifier(learning_rate=lgbmBO.max['params']['learning_rate'],\n",
    "                               num_leaves = int(round(lgbmBO.max['params']['num_leaves'])),\n",
    "                               max_depth = int(round(lgbmBO.max['params']['max_depth'])),\n",
    "                               min_child_weight = int(round(lgbmBO.max['params']['min_child_weight'])),\n",
    "                               colsample_bytree=lgbmBO.max['params']['colsample_bytree'],\n",
    "                               feature_fraction = max(min(lgbmBO.max['params']['feature_fraction'], 1), 0),\n",
    "                               bagging_fraction = max(min(lgbmBO.max['params']['bagging_fraction'], 1), 0),\n",
    "                               lambda_l1 = lgbmBO.max['params']['lambda_l1'],\n",
    "                               lambda_l2 = lgbmBO.max['params']['lambda_l2']\n",
    "                               )"
   ]
  },
  {
   "cell_type": "code",
   "execution_count": 55,
   "metadata": {},
   "outputs": [],
   "source": [
    "model = fit_lgbm.fit(X,y)"
   ]
  },
  {
   "cell_type": "markdown",
   "metadata": {},
   "source": [
    "## 04 모델 적용"
   ]
  },
  {
   "cell_type": "code",
   "execution_count": 56,
   "metadata": {},
   "outputs": [
    {
     "data": {
      "text/plain": [
       "['lgbmBO_201006.pkl']"
      ]
     },
     "execution_count": 56,
     "metadata": {},
     "output_type": "execute_result"
    }
   ],
   "source": [
    "import joblib\n",
    "joblib.dump(model, 'lgbmBO_201006.pkl')"
   ]
  },
  {
   "cell_type": "code",
   "execution_count": 57,
   "metadata": {},
   "outputs": [],
   "source": [
    "pred_y = model.predict(test)"
   ]
  },
  {
   "cell_type": "code",
   "execution_count": 58,
   "metadata": {},
   "outputs": [],
   "source": [
    "submission['voted']=pred_y\n",
    "submission.to_csv('lgbmBO_201006.csv')"
   ]
  },
  {
   "cell_type": "code",
   "execution_count": null,
   "metadata": {},
   "outputs": [],
   "source": []
  },
  {
   "cell_type": "code",
   "execution_count": null,
   "metadata": {},
   "outputs": [],
   "source": []
  }
 ],
 "metadata": {
  "kernelspec": {
   "display_name": "Python 3",
   "language": "python",
   "name": "python3"
  },
  "language_info": {
   "codemirror_mode": {
    "name": "ipython",
    "version": 3
   },
   "file_extension": ".py",
   "mimetype": "text/x-python",
   "name": "python",
   "nbconvert_exporter": "python",
   "pygments_lexer": "ipython3",
   "version": "3.7.4"
  }
 },
 "nbformat": 4,
 "nbformat_minor": 2
}
