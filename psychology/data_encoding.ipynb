{
 "cells": [
  {
   "cell_type": "markdown",
   "metadata": {},
   "source": [
    "포스팅 [링크](https://visitor-badge.laobi.icu/badge?page_id=jihyun22.github.io/데이콘리뷰/psychology-01/)"
   ]
  },
  {
   "cell_type": "markdown",
   "metadata": {},
   "source": [
    "## 01 데이터 로드"
   ]
  },
  {
   "cell_type": "code",
   "execution_count": 1,
   "metadata": {},
   "outputs": [],
   "source": [
    "import pandas as pd\n",
    "import numpy as np"
   ]
  },
  {
   "cell_type": "code",
   "execution_count": 2,
   "metadata": {},
   "outputs": [],
   "source": [
    "train=pd.read_csv('data/train.csv', index_col=0)\n",
    "test=pd.read_csv('data/test_x.csv', index_col=0)\n",
    "submission=pd.read_csv('data/sample_submission.csv', index_col=0)  "
   ]
  },
  {
   "cell_type": "code",
   "execution_count": 3,
   "metadata": {},
   "outputs": [
    {
     "data": {
      "text/html": [
       "<div>\n",
       "<style scoped>\n",
       "    .dataframe tbody tr th:only-of-type {\n",
       "        vertical-align: middle;\n",
       "    }\n",
       "\n",
       "    .dataframe tbody tr th {\n",
       "        vertical-align: top;\n",
       "    }\n",
       "\n",
       "    .dataframe thead th {\n",
       "        text-align: right;\n",
       "    }\n",
       "</style>\n",
       "<table border=\"1\" class=\"dataframe\">\n",
       "  <thead>\n",
       "    <tr style=\"text-align: right;\">\n",
       "      <th></th>\n",
       "      <th>QaA</th>\n",
       "      <th>QaE</th>\n",
       "      <th>QbA</th>\n",
       "      <th>QbE</th>\n",
       "      <th>QcA</th>\n",
       "      <th>QcE</th>\n",
       "      <th>QdA</th>\n",
       "      <th>QdE</th>\n",
       "      <th>QeA</th>\n",
       "      <th>QeE</th>\n",
       "      <th>...</th>\n",
       "      <th>wr_04</th>\n",
       "      <th>wr_05</th>\n",
       "      <th>wr_06</th>\n",
       "      <th>wr_07</th>\n",
       "      <th>wr_08</th>\n",
       "      <th>wr_09</th>\n",
       "      <th>wr_10</th>\n",
       "      <th>wr_11</th>\n",
       "      <th>wr_12</th>\n",
       "      <th>wr_13</th>\n",
       "    </tr>\n",
       "    <tr>\n",
       "      <th>index</th>\n",
       "      <th></th>\n",
       "      <th></th>\n",
       "      <th></th>\n",
       "      <th></th>\n",
       "      <th></th>\n",
       "      <th></th>\n",
       "      <th></th>\n",
       "      <th></th>\n",
       "      <th></th>\n",
       "      <th></th>\n",
       "      <th></th>\n",
       "      <th></th>\n",
       "      <th></th>\n",
       "      <th></th>\n",
       "      <th></th>\n",
       "      <th></th>\n",
       "      <th></th>\n",
       "      <th></th>\n",
       "      <th></th>\n",
       "      <th></th>\n",
       "      <th></th>\n",
       "    </tr>\n",
       "  </thead>\n",
       "  <tbody>\n",
       "    <tr>\n",
       "      <td>0</td>\n",
       "      <td>3.0</td>\n",
       "      <td>363</td>\n",
       "      <td>4.0</td>\n",
       "      <td>1370</td>\n",
       "      <td>5.0</td>\n",
       "      <td>997</td>\n",
       "      <td>1.0</td>\n",
       "      <td>1024</td>\n",
       "      <td>2.0</td>\n",
       "      <td>1577</td>\n",
       "      <td>...</td>\n",
       "      <td>0</td>\n",
       "      <td>1</td>\n",
       "      <td>0</td>\n",
       "      <td>1</td>\n",
       "      <td>1</td>\n",
       "      <td>0</td>\n",
       "      <td>1</td>\n",
       "      <td>0</td>\n",
       "      <td>1</td>\n",
       "      <td>1</td>\n",
       "    </tr>\n",
       "    <tr>\n",
       "      <td>1</td>\n",
       "      <td>5.0</td>\n",
       "      <td>647</td>\n",
       "      <td>5.0</td>\n",
       "      <td>1313</td>\n",
       "      <td>3.0</td>\n",
       "      <td>3387</td>\n",
       "      <td>5.0</td>\n",
       "      <td>2969</td>\n",
       "      <td>1.0</td>\n",
       "      <td>4320</td>\n",
       "      <td>...</td>\n",
       "      <td>1</td>\n",
       "      <td>1</td>\n",
       "      <td>0</td>\n",
       "      <td>1</td>\n",
       "      <td>1</td>\n",
       "      <td>0</td>\n",
       "      <td>1</td>\n",
       "      <td>0</td>\n",
       "      <td>1</td>\n",
       "      <td>1</td>\n",
       "    </tr>\n",
       "    <tr>\n",
       "      <td>2</td>\n",
       "      <td>4.0</td>\n",
       "      <td>1623</td>\n",
       "      <td>1.0</td>\n",
       "      <td>1480</td>\n",
       "      <td>1.0</td>\n",
       "      <td>1021</td>\n",
       "      <td>4.0</td>\n",
       "      <td>3374</td>\n",
       "      <td>5.0</td>\n",
       "      <td>1333</td>\n",
       "      <td>...</td>\n",
       "      <td>1</td>\n",
       "      <td>1</td>\n",
       "      <td>0</td>\n",
       "      <td>1</td>\n",
       "      <td>1</td>\n",
       "      <td>1</td>\n",
       "      <td>1</td>\n",
       "      <td>0</td>\n",
       "      <td>1</td>\n",
       "      <td>1</td>\n",
       "    </tr>\n",
       "    <tr>\n",
       "      <td>3</td>\n",
       "      <td>3.0</td>\n",
       "      <td>504</td>\n",
       "      <td>3.0</td>\n",
       "      <td>2311</td>\n",
       "      <td>4.0</td>\n",
       "      <td>992</td>\n",
       "      <td>3.0</td>\n",
       "      <td>3245</td>\n",
       "      <td>1.0</td>\n",
       "      <td>357</td>\n",
       "      <td>...</td>\n",
       "      <td>0</td>\n",
       "      <td>0</td>\n",
       "      <td>0</td>\n",
       "      <td>0</td>\n",
       "      <td>1</td>\n",
       "      <td>0</td>\n",
       "      <td>1</td>\n",
       "      <td>0</td>\n",
       "      <td>1</td>\n",
       "      <td>1</td>\n",
       "    </tr>\n",
       "    <tr>\n",
       "      <td>4</td>\n",
       "      <td>1.0</td>\n",
       "      <td>927</td>\n",
       "      <td>1.0</td>\n",
       "      <td>707</td>\n",
       "      <td>5.0</td>\n",
       "      <td>556</td>\n",
       "      <td>2.0</td>\n",
       "      <td>1062</td>\n",
       "      <td>1.0</td>\n",
       "      <td>1014</td>\n",
       "      <td>...</td>\n",
       "      <td>1</td>\n",
       "      <td>1</td>\n",
       "      <td>1</td>\n",
       "      <td>1</td>\n",
       "      <td>1</td>\n",
       "      <td>0</td>\n",
       "      <td>1</td>\n",
       "      <td>1</td>\n",
       "      <td>1</td>\n",
       "      <td>1</td>\n",
       "    </tr>\n",
       "    <tr>\n",
       "      <td>...</td>\n",
       "      <td>...</td>\n",
       "      <td>...</td>\n",
       "      <td>...</td>\n",
       "      <td>...</td>\n",
       "      <td>...</td>\n",
       "      <td>...</td>\n",
       "      <td>...</td>\n",
       "      <td>...</td>\n",
       "      <td>...</td>\n",
       "      <td>...</td>\n",
       "      <td>...</td>\n",
       "      <td>...</td>\n",
       "      <td>...</td>\n",
       "      <td>...</td>\n",
       "      <td>...</td>\n",
       "      <td>...</td>\n",
       "      <td>...</td>\n",
       "      <td>...</td>\n",
       "      <td>...</td>\n",
       "      <td>...</td>\n",
       "      <td>...</td>\n",
       "    </tr>\n",
       "    <tr>\n",
       "      <td>45527</td>\n",
       "      <td>2.0</td>\n",
       "      <td>1050</td>\n",
       "      <td>5.0</td>\n",
       "      <td>619</td>\n",
       "      <td>4.0</td>\n",
       "      <td>328</td>\n",
       "      <td>1.0</td>\n",
       "      <td>285</td>\n",
       "      <td>1.0</td>\n",
       "      <td>602</td>\n",
       "      <td>...</td>\n",
       "      <td>1</td>\n",
       "      <td>1</td>\n",
       "      <td>0</td>\n",
       "      <td>1</td>\n",
       "      <td>1</td>\n",
       "      <td>1</td>\n",
       "      <td>1</td>\n",
       "      <td>0</td>\n",
       "      <td>1</td>\n",
       "      <td>1</td>\n",
       "    </tr>\n",
       "    <tr>\n",
       "      <td>45528</td>\n",
       "      <td>2.0</td>\n",
       "      <td>581</td>\n",
       "      <td>3.0</td>\n",
       "      <td>1353</td>\n",
       "      <td>4.0</td>\n",
       "      <td>1164</td>\n",
       "      <td>1.0</td>\n",
       "      <td>798</td>\n",
       "      <td>3.0</td>\n",
       "      <td>1680</td>\n",
       "      <td>...</td>\n",
       "      <td>1</td>\n",
       "      <td>1</td>\n",
       "      <td>0</td>\n",
       "      <td>1</td>\n",
       "      <td>1</td>\n",
       "      <td>1</td>\n",
       "      <td>1</td>\n",
       "      <td>0</td>\n",
       "      <td>1</td>\n",
       "      <td>1</td>\n",
       "    </tr>\n",
       "    <tr>\n",
       "      <td>45529</td>\n",
       "      <td>4.0</td>\n",
       "      <td>593</td>\n",
       "      <td>1.0</td>\n",
       "      <td>857</td>\n",
       "      <td>1.0</td>\n",
       "      <td>1047</td>\n",
       "      <td>4.0</td>\n",
       "      <td>1515</td>\n",
       "      <td>5.0</td>\n",
       "      <td>1690</td>\n",
       "      <td>...</td>\n",
       "      <td>1</td>\n",
       "      <td>1</td>\n",
       "      <td>0</td>\n",
       "      <td>1</td>\n",
       "      <td>1</td>\n",
       "      <td>0</td>\n",
       "      <td>1</td>\n",
       "      <td>0</td>\n",
       "      <td>1</td>\n",
       "      <td>1</td>\n",
       "    </tr>\n",
       "    <tr>\n",
       "      <td>45530</td>\n",
       "      <td>1.0</td>\n",
       "      <td>747</td>\n",
       "      <td>3.0</td>\n",
       "      <td>1331</td>\n",
       "      <td>4.0</td>\n",
       "      <td>892</td>\n",
       "      <td>2.0</td>\n",
       "      <td>1281</td>\n",
       "      <td>1.0</td>\n",
       "      <td>1328</td>\n",
       "      <td>...</td>\n",
       "      <td>1</td>\n",
       "      <td>1</td>\n",
       "      <td>0</td>\n",
       "      <td>1</td>\n",
       "      <td>1</td>\n",
       "      <td>1</td>\n",
       "      <td>1</td>\n",
       "      <td>0</td>\n",
       "      <td>1</td>\n",
       "      <td>1</td>\n",
       "    </tr>\n",
       "    <tr>\n",
       "      <td>45531</td>\n",
       "      <td>3.0</td>\n",
       "      <td>496</td>\n",
       "      <td>5.0</td>\n",
       "      <td>1827</td>\n",
       "      <td>5.0</td>\n",
       "      <td>754</td>\n",
       "      <td>3.0</td>\n",
       "      <td>1117</td>\n",
       "      <td>1.0</td>\n",
       "      <td>432</td>\n",
       "      <td>...</td>\n",
       "      <td>1</td>\n",
       "      <td>1</td>\n",
       "      <td>0</td>\n",
       "      <td>1</td>\n",
       "      <td>1</td>\n",
       "      <td>0</td>\n",
       "      <td>1</td>\n",
       "      <td>0</td>\n",
       "      <td>1</td>\n",
       "      <td>1</td>\n",
       "    </tr>\n",
       "  </tbody>\n",
       "</table>\n",
       "<p>45532 rows × 77 columns</p>\n",
       "</div>"
      ],
      "text/plain": [
       "       QaA   QaE  QbA   QbE  QcA   QcE  QdA   QdE  QeA   QeE  ...  wr_04  \\\n",
       "index                                                         ...          \n",
       "0      3.0   363  4.0  1370  5.0   997  1.0  1024  2.0  1577  ...      0   \n",
       "1      5.0   647  5.0  1313  3.0  3387  5.0  2969  1.0  4320  ...      1   \n",
       "2      4.0  1623  1.0  1480  1.0  1021  4.0  3374  5.0  1333  ...      1   \n",
       "3      3.0   504  3.0  2311  4.0   992  3.0  3245  1.0   357  ...      0   \n",
       "4      1.0   927  1.0   707  5.0   556  2.0  1062  1.0  1014  ...      1   \n",
       "...    ...   ...  ...   ...  ...   ...  ...   ...  ...   ...  ...    ...   \n",
       "45527  2.0  1050  5.0   619  4.0   328  1.0   285  1.0   602  ...      1   \n",
       "45528  2.0   581  3.0  1353  4.0  1164  1.0   798  3.0  1680  ...      1   \n",
       "45529  4.0   593  1.0   857  1.0  1047  4.0  1515  5.0  1690  ...      1   \n",
       "45530  1.0   747  3.0  1331  4.0   892  2.0  1281  1.0  1328  ...      1   \n",
       "45531  3.0   496  5.0  1827  5.0   754  3.0  1117  1.0   432  ...      1   \n",
       "\n",
       "       wr_05  wr_06  wr_07  wr_08  wr_09  wr_10  wr_11  wr_12  wr_13  \n",
       "index                                                                 \n",
       "0          1      0      1      1      0      1      0      1      1  \n",
       "1          1      0      1      1      0      1      0      1      1  \n",
       "2          1      0      1      1      1      1      0      1      1  \n",
       "3          0      0      0      1      0      1      0      1      1  \n",
       "4          1      1      1      1      0      1      1      1      1  \n",
       "...      ...    ...    ...    ...    ...    ...    ...    ...    ...  \n",
       "45527      1      0      1      1      1      1      0      1      1  \n",
       "45528      1      0      1      1      1      1      0      1      1  \n",
       "45529      1      0      1      1      0      1      0      1      1  \n",
       "45530      1      0      1      1      1      1      0      1      1  \n",
       "45531      1      0      1      1      0      1      0      1      1  \n",
       "\n",
       "[45532 rows x 77 columns]"
      ]
     },
     "execution_count": 3,
     "metadata": {},
     "output_type": "execute_result"
    }
   ],
   "source": [
    "train"
   ]
  },
  {
   "cell_type": "code",
   "execution_count": 4,
   "metadata": {},
   "outputs": [
    {
     "data": {
      "text/plain": [
       "(45532, 77)"
      ]
     },
     "execution_count": 4,
     "metadata": {},
     "output_type": "execute_result"
    }
   ],
   "source": [
    "train.shape"
   ]
  },
  {
   "cell_type": "code",
   "execution_count": 5,
   "metadata": {},
   "outputs": [],
   "source": [
    "X = train.drop('voted', axis = 1)\n",
    "y = train['voted']"
   ]
  },
  {
   "cell_type": "markdown",
   "metadata": {},
   "source": [
    "## 02 데이터 전처리 - 인코딩"
   ]
  },
  {
   "cell_type": "code",
   "execution_count": 6,
   "metadata": {},
   "outputs": [
    {
     "name": "stdout",
     "output_type": "stream",
     "text": [
      "White                    31248\n",
      "Asian                     6834\n",
      "Other                     4330\n",
      "Black                     2168\n",
      "Native American            548\n",
      "Arab                       351\n",
      "Indigenous Australian       53\n",
      "Name: race, dtype: int64\n"
     ]
    }
   ],
   "source": [
    "print(X.race.value_counts())"
   ]
  },
  {
   "cell_type": "code",
   "execution_count": 7,
   "metadata": {},
   "outputs": [
    {
     "name": "stdout",
     "output_type": "stream",
     "text": [
      "10s     14215\n",
      "20s     14112\n",
      "30s      7836\n",
      "40s      5051\n",
      "50s      2889\n",
      "60s      1194\n",
      "+70s      235\n",
      "Name: age_group, dtype: int64\n"
     ]
    }
   ],
   "source": [
    "print(X.age_group.value_counts())"
   ]
  },
  {
   "cell_type": "code",
   "execution_count": 8,
   "metadata": {},
   "outputs": [
    {
     "name": "stdout",
     "output_type": "stream",
     "text": [
      "Male      24217\n",
      "Female    21315\n",
      "Name: gender, dtype: int64\n"
     ]
    }
   ],
   "source": [
    "print(X.gender.value_counts())"
   ]
  },
  {
   "cell_type": "code",
   "execution_count": 9,
   "metadata": {},
   "outputs": [
    {
     "name": "stdout",
     "output_type": "stream",
     "text": [
      "Atheist                 10192\n",
      "Agnostic                 9624\n",
      "Christian_Catholic       6431\n",
      "Christian_Other          5137\n",
      "Christian_Protestant     4875\n",
      "Other                    4770\n",
      "Hindu                    1429\n",
      "Muslim                   1192\n",
      "Buddhist                  850\n",
      "Jewish                    487\n",
      "Christian_Mormon          428\n",
      "Sikh                      117\n",
      "Name: religion, dtype: int64\n"
     ]
    }
   ],
   "source": [
    "print(X.religion.value_counts())"
   ]
  },
  {
   "cell_type": "code",
   "execution_count": 10,
   "metadata": {},
   "outputs": [
    {
     "name": "stdout",
     "output_type": "stream",
     "text": [
      "columns list :  ['QaA', 'QaE', 'QbA', 'QbE', 'QcA', 'QcE', 'QdA', 'QdE', 'QeA', 'QeE', 'QfA', 'QfE', 'QgA', 'QgE', 'QhA', 'QhE', 'QiA', 'QiE', 'QjA', 'QjE', 'QkA', 'QkE', 'QlA', 'QlE', 'QmA', 'QmE', 'QnA', 'QnE', 'QoA', 'QoE', 'QpA', 'QpE', 'QqA', 'QqE', 'QrA', 'QrE', 'QsA', 'QsE', 'QtA', 'QtE', 'age_group', 'education', 'engnat', 'familysize', 'gender', 'hand', 'married', 'race', 'religion', 'tp01', 'tp02', 'tp03', 'tp04', 'tp05', 'tp06', 'tp07', 'tp08', 'tp09', 'tp10', 'urban', 'wf_01', 'wf_02', 'wf_03', 'wr_01', 'wr_02', 'wr_03', 'wr_04', 'wr_05', 'wr_06', 'wr_07', 'wr_08', 'wr_09', 'wr_10', 'wr_11', 'wr_12', 'wr_13'] \n",
      "\n",
      "get_dummies columns list :  ['QaA', 'QaE', 'QbA', 'QbE', 'QcA', 'QcE', 'QdA', 'QdE', 'QeA', 'QeE', 'QfA', 'QfE', 'QgA', 'QgE', 'QhA', 'QhE', 'QiA', 'QiE', 'QjA', 'QjE', 'QkA', 'QkE', 'QlA', 'QlE', 'QmA', 'QmE', 'QnA', 'QnE', 'QoA', 'QoE', 'QpA', 'QpE', 'QqA', 'QqE', 'QrA', 'QrE', 'QsA', 'QsE', 'QtA', 'QtE', 'education', 'engnat', 'familysize', 'hand', 'married', 'tp01', 'tp02', 'tp03', 'tp04', 'tp05', 'tp06', 'tp07', 'tp08', 'tp09', 'tp10', 'urban', 'wf_01', 'wf_02', 'wf_03', 'wr_01', 'wr_02', 'wr_03', 'wr_04', 'wr_05', 'wr_06', 'wr_07', 'wr_08', 'wr_09', 'wr_10', 'wr_11', 'wr_12', 'wr_13', 'age_group_+70s', 'age_group_10s', 'age_group_20s', 'age_group_30s', 'age_group_40s', 'age_group_50s', 'age_group_60s', 'gender_Female', 'gender_Male', 'race_Arab', 'race_Asian', 'race_Black', 'race_Indigenous Australian', 'race_Native American', 'race_Other', 'race_White', 'religion_Agnostic', 'religion_Atheist', 'religion_Buddhist', 'religion_Christian_Catholic', 'religion_Christian_Mormon', 'religion_Christian_Other', 'religion_Christian_Protestant', 'religion_Hindu', 'religion_Jewish', 'religion_Muslim', 'religion_Other', 'religion_Sikh']\n"
     ]
    }
   ],
   "source": [
    "print(\"columns list : \", list(X.columns), \"\\n\")\n",
    "X_dummies = pd.get_dummies(X)\n",
    "print(\"get_dummies columns list : \", list(X_dummies.columns))"
   ]
  },
  {
   "cell_type": "code",
   "execution_count": 11,
   "metadata": {},
   "outputs": [
    {
     "name": "stdout",
     "output_type": "stream",
     "text": [
      "X: (45532, 76)\tX_dummies: (45532, 100)\n"
     ]
    }
   ],
   "source": [
    "print(\"X: {}\\tX_dummies: {}\".format(X.shape, X_dummies.shape))"
   ]
  },
  {
   "cell_type": "code",
   "execution_count": 12,
   "metadata": {},
   "outputs": [
    {
     "data": {
      "text/plain": [
       "(11383, 100)"
      ]
     },
     "execution_count": 12,
     "metadata": {},
     "output_type": "execute_result"
    }
   ],
   "source": [
    "test = pd.get_dummies(test)\n",
    "test.shape"
   ]
  },
  {
   "cell_type": "code",
   "execution_count": 14,
   "metadata": {},
   "outputs": [
    {
     "name": "stdout",
     "output_type": "stream",
     "text": [
      "True\n"
     ]
    }
   ],
   "source": [
    "print(\"True\") if list(X_dummies.columns) == list(test.columns) else list(test.columns)"
   ]
  },
  {
   "cell_type": "code",
   "execution_count": 15,
   "metadata": {},
   "outputs": [],
   "source": [
    "X=X_dummies"
   ]
  }
 ],
 "metadata": {
  "kernelspec": {
   "display_name": "Python 3",
   "language": "python",
   "name": "python3"
  },
  "language_info": {
   "codemirror_mode": {
    "name": "ipython",
    "version": 3
   },
   "file_extension": ".py",
   "mimetype": "text/x-python",
   "name": "python",
   "nbconvert_exporter": "python",
   "pygments_lexer": "ipython3",
   "version": "3.7.4"
  }
 },
 "nbformat": 4,
 "nbformat_minor": 2
}
